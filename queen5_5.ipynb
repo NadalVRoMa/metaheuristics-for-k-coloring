{
 "cells": [
  {
   "cell_type": "markdown",
   "metadata": {},
   "source": [
    "# Grafo queen5_5\n",
    "## Óptimo: 5 Colores"
   ]
  },
  {
   "cell_type": "code",
   "execution_count": 1,
   "metadata": {
    "collapsed": true
   },
   "outputs": [],
   "source": [
    "import genetico, enfriamiento, enfriamiento_mut, shelve"
   ]
  },
  {
   "cell_type": "code",
   "execution_count": 2,
   "metadata": {
    "collapsed": true
   },
   "outputs": [],
   "source": [
    "g = shelve.open('grafos')"
   ]
  },
  {
   "cell_type": "code",
   "execution_count": 3,
   "metadata": {},
   "outputs": [
    {
     "name": "stdout",
     "output_type": "stream",
     "text": [
      "Colores usados por población generada: 17\n",
      "Mejora. Colores usados: 14 // Tiempo (s): 0.019020795822143555\n",
      "Mejora. Colores usados: 10 // Tiempo (s): 0.050900936126708984\n",
      "Mejora. Colores usados: 9 // Tiempo (s): 0.07691812515258789\n",
      "Mejora. Colores usados: 8 // Tiempo (s): 0.09071040153503418\n",
      "Mejora. Colores usados: 7 // Tiempo (s): 0.3075737953186035\n",
      "Mejora. Colores usados: 6 // Tiempo (s): 0.4997985363006592\n",
      "Mejora. Colores usados: 5 // Tiempo (s): 8.515838861465454\n",
      "Optimo alcanzado!\n"
     ]
    }
   ],
   "source": [
    "sol, t_gen = genetico.main(g['queen5_5'], max_time=1200, optimo=5)"
   ]
  },
  {
   "cell_type": "code",
   "execution_count": 4,
   "metadata": {},
   "outputs": [
    {
     "name": "stdout",
     "output_type": "stream",
     "text": [
      "Colores usados por población generada: 17\n",
      "Mejora. Colores usados: 9 // Tiempo (s): 0.0939784049987793\n",
      "Mejora. Colores usados: 8 // Tiempo (s): 0.1434032917022705\n",
      "Mejora. Colores usados: 7 // Tiempo (s): 0.24119806289672852\n",
      "Mejora. Colores usados: 6 // Tiempo (s): 0.4733738899230957\n",
      "Mejora. Colores usados: 5 // Tiempo (s): 0.8052957057952881\n",
      "Óptimo alcanzado\n"
     ]
    }
   ],
   "source": [
    "sol, t_enf = enfriamiento.main(g['queen5_5'], max_time=1200, optimo=5)"
   ]
  },
  {
   "cell_type": "code",
   "execution_count": 5,
   "metadata": {},
   "outputs": [
    {
     "name": "stdout",
     "output_type": "stream",
     "text": [
      "Colores usados por población generada: 17\n",
      "Mejora. Colores usados: 10 // Tiempo (s): 0.02945566177368164\n",
      "Mejora. Colores usados: 8 // Tiempo (s): 0.18082857131958008\n",
      "Mejora. Colores usados: 7 // Tiempo (s): 0.36403822898864746\n",
      "Mejora. Colores usados: 6 // Tiempo (s): 0.5618178844451904\n",
      "Mejora. Colores usados: 5 // Tiempo (s): 0.9073820114135742\n",
      "Óptimo alcanzado\n"
     ]
    }
   ],
   "source": [
    "sol, t_emu = enfriamiento_mut.main(g['queen5_5'], max_time=1200, optimo=5)"
   ]
  },
  {
   "cell_type": "code",
   "execution_count": 6,
   "metadata": {},
   "outputs": [
    {
     "data": {
      "text/plain": [
       "<matplotlib.text.Text at 0x7f2063305400>"
      ]
     },
     "execution_count": 6,
     "metadata": {},
     "output_type": "execute_result"
    },
    {
     "data": {
      "image/png": "[encoded data removed]",
      "text/plain": [
       "<matplotlib.figure.Figure at 0x7f20668f9160>"
      ]
     },
     "metadata": {},
     "output_type": "display_data"
    }
   ],
   "source": [
    "%matplotlib inline\n",
    "import matplotlib.pyplot as plt\n",
    "\n",
    "col_gen = [17] + [x[0] for x in t_gen]\n",
    "col_enf = [17] + [x[0] for x in t_enf]\n",
    "col_emu = [17] + [x[0] for x in t_emu]\n",
    "tm_gen = [0] + [x[1] for x in t_gen]\n",
    "tm_enf = [0] + [x[1] for x in t_enf]\n",
    "tm_emu = [0] +[x[1] for x in t_emu]\n",
    "\n",
    "plt.plot(tm_gen, col_gen, 'r-o', label='AG')\n",
    "plt.plot(tm_enf, col_enf, 'b-o', label='ES')\n",
    "plt.plot(tm_emu, col_emu, 'g-o', label='ES-M')\n",
    "plt.legend()\n",
    "plt.xlabel('Tiempo(s)')\n",
    "plt.ylabel('Colores')"
   ]
  }
 ],
 "metadata": {
  "kernelspec": {
   "display_name": "Python 3",
   "language": "python",
   "name": "python3"
  },
  "language_info": {
   "codemirror_mode": {
    "name": "ipython",
    "version": 3
   },
   "file_extension": ".py",
   "mimetype": "text/x-python",
   "name": "python",
   "nbconvert_exporter": "python",
   "pygments_lexer": "ipython3",
   "version": "3.6.1"
  }
 },
 "nbformat": 4,
 "nbformat_minor": 2
}
