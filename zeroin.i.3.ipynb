{
 "cells": [
  {
   "cell_type": "markdown",
   "metadata": {},
   "source": [
    "# Grafo zeroin.i.3\n",
    "## Óptimo: 30 Colores"
   ]
  },
  {
   "cell_type": "code",
   "execution_count": 1,
   "metadata": {
    "collapsed": true
   },
   "outputs": [],
   "source": [
    "import genetico, enfriamiento, enfriamiento_mut, shelve"
   ]
  },
  {
   "cell_type": "code",
   "execution_count": 2,
   "metadata": {
    "collapsed": true
   },
   "outputs": [],
   "source": [
    "g = shelve.open('grafos')"
   ]
  },
  {
   "cell_type": "code",
   "execution_count": 3,
   "metadata": {},
   "outputs": [
    {
     "name": "stdout",
     "output_type": "stream",
     "text": [
      "Colores usados por población generada: 141\n",
      "Mejora. Colores usados: 108 // Tiempo (s): 0.45372939109802246\n",
      "Mejora. Colores usados: 89 // Tiempo (s): 0.8392624855041504\n",
      "Mejora. Colores usados: 80 // Tiempo (s): 2.110322952270508\n",
      "Mejora. Colores usados: 74 // Tiempo (s): 2.5048069953918457\n",
      "Mejora. Colores usados: 70 // Tiempo (s): 2.8790223598480225\n",
      "Mejora. Colores usados: 65 // Tiempo (s): 3.2491133213043213\n",
      "Mejora. Colores usados: 62 // Tiempo (s): 4.21161413192749\n",
      "Mejora. Colores usados: 59 // Tiempo (s): 5.057403564453125\n",
      "Mejora. Colores usados: 56 // Tiempo (s): 5.3892223834991455\n",
      "Mejora. Colores usados: 54 // Tiempo (s): 21.80223274230957\n",
      "Mejora. Colores usados: 51 // Tiempo (s): 28.87730598449707\n",
      "Mejora. Colores usados: 49 // Tiempo (s): 30.559448957443237\n",
      "Mejora. Colores usados: 48 // Tiempo (s): 33.23497724533081\n",
      "Mejora. Colores usados: 47 // Tiempo (s): 34.15680241584778\n",
      "Mejora. Colores usados: 45 // Tiempo (s): 39.23230791091919\n",
      "Mejora. Colores usados: 43 // Tiempo (s): 68.73998379707336\n",
      "Mejora. Colores usados: 42 // Tiempo (s): 73.93809700012207\n",
      "Mejora. Colores usados: 41 // Tiempo (s): 84.6485984325409\n",
      "Mejora. Colores usados: 39 // Tiempo (s): 86.7166075706482\n",
      "Mejora. Colores usados: 38 // Tiempo (s): 262.12084889411926\n",
      "Mejora. Colores usados: 37 // Tiempo (s): 415.57298016548157\n",
      "Mejora. Colores usados: 36 // Tiempo (s): 457.50850558280945\n",
      "Mejora. Colores usados: 35 // Tiempo (s): 684.2405545711517\n"
     ]
    }
   ],
   "source": [
    "sol, t_gen = genetico.main(g['zeroin.i.3'], max_time=1200, optimo=30)"
   ]
  },
  {
   "cell_type": "code",
   "execution_count": 4,
   "metadata": {},
   "outputs": [
    {
     "name": "stdout",
     "output_type": "stream",
     "text": [
      "Colores usados por población generada: 141\n",
      "Mejora. Colores usados: 58 // Tiempo (s): 24.385602951049805\n",
      "Mejora. Colores usados: 47 // Tiempo (s): 675.671840429306\n"
     ]
    }
   ],
   "source": [
    "sol, t_enf = enfriamiento.main(g['zeroin.i.3'], max_time=1200, optimo=30)"
   ]
  },
  {
   "cell_type": "code",
   "execution_count": 5,
   "metadata": {},
   "outputs": [
    {
     "name": "stdout",
     "output_type": "stream",
     "text": [
      "Colores usados por población generada: 141\n",
      "Mejora. Colores usados: 84 // Tiempo (s): 5.521857500076294\n",
      "Mejora. Colores usados: 67 // Tiempo (s): 10.738603115081787\n",
      "Mejora. Colores usados: 52 // Tiempo (s): 39.82534885406494\n",
      "Mejora. Colores usados: 48 // Tiempo (s): 86.23327803611755\n",
      "Mejora. Colores usados: 46 // Tiempo (s): 737.4266655445099\n"
     ]
    }
   ],
   "source": [
    "sol, t_emu = enfriamiento_mut.main(g['zeroin.i.3'], max_time=1200, optimo=30)"
   ]
  },
  {
   "cell_type": "code",
   "execution_count": 6,
   "metadata": {},
   "outputs": [
    {
     "data": {
      "text/plain": [
       "<matplotlib.text.Text at 0x7fd7ce39f390>"
      ]
     },
     "execution_count": 6,
     "metadata": {},
     "output_type": "execute_result"
    },
    {
     "data": {
      "image/png": "[encoded data removed]",
      "text/plain": [
       "<matplotlib.figure.Figure at 0x7fd7d1990160>"
      ]
     },
     "metadata": {},
     "output_type": "display_data"
    }
   ],
   "source": [
    "%matplotlib inline\n",
    "import matplotlib.pyplot as plt\n",
    "\n",
    "col_gen = [141] + [x[0] for x in t_gen]\n",
    "col_enf = [141] + [x[0] for x in t_enf]\n",
    "col_emu = [141] + [x[0] for x in t_emu]\n",
    "tm_gen = [0] + [x[1] for x in t_gen]\n",
    "tm_enf = [0] + [x[1] for x in t_enf]\n",
    "tm_emu = [0] +[x[1] for x in t_emu]\n",
    "\n",
    "plt.plot(tm_gen, col_gen, 'r-o', label='AG')\n",
    "plt.plot(tm_enf, col_enf, 'b-o', label='ES')\n",
    "plt.plot(tm_emu, col_emu, 'g-o', label='ES-M')\n",
    "plt.legend()\n",
    "plt.xlabel('Tiempo(s)')\n",
    "plt.ylabel('Colores')"
   ]
  }
 ],
 "metadata": {
  "kernelspec": {
   "display_name": "Python 3",
   "language": "python",
   "name": "python3"
  },
  "language_info": {
   "codemirror_mode": {
    "name": "ipython",
    "version": 3
   },
   "file_extension": ".py",
   "mimetype": "text/x-python",
   "name": "python",
   "nbconvert_exporter": "python",
   "pygments_lexer": "ipython3",
   "version": "3.6.1"
  }
 },
 "nbformat": 4,
 "nbformat_minor": 2
}
