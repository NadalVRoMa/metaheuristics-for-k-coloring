{
 "cells": [
  {
   "cell_type": "markdown",
   "metadata": {},
   "source": [
    "# Grafo myciel5\n",
    "## Óptimo: 6 Colores"
   ]
  },
  {
   "cell_type": "code",
   "execution_count": 1,
   "metadata": {
    "collapsed": true
   },
   "outputs": [],
   "source": [
    "import genetico, enfriamiento, enfriamiento_mut, shelve"
   ]
  },
  {
   "cell_type": "code",
   "execution_count": 2,
   "metadata": {
    "collapsed": true
   },
   "outputs": [],
   "source": [
    "g = shelve.open('grafos')"
   ]
  },
  {
   "cell_type": "code",
   "execution_count": 3,
   "metadata": {},
   "outputs": [
    {
     "name": "stdout",
     "output_type": "stream",
     "text": [
      "Colores usados por población generada: 24\n",
      "Mejora. Colores usados: 21 // Tiempo (s): 0.02843165397644043\n",
      "Mejora. Colores usados: 19 // Tiempo (s): 0.049982547760009766\n",
      "Mejora. Colores usados: 16 // Tiempo (s): 0.06859636306762695\n",
      "Mejora. Colores usados: 15 // Tiempo (s): 0.08797907829284668\n",
      "Mejora. Colores usados: 13 // Tiempo (s): 0.10761165618896484\n",
      "Mejora. Colores usados: 12 // Tiempo (s): 0.12597990036010742\n",
      "Mejora. Colores usados: 11 // Tiempo (s): 0.14410996437072754\n",
      "Mejora. Colores usados: 10 // Tiempo (s): 0.16225743293762207\n",
      "Mejora. Colores usados: 9 // Tiempo (s): 0.18328619003295898\n",
      "Mejora. Colores usados: 8 // Tiempo (s): 0.20136165618896484\n",
      "Mejora. Colores usados: 7 // Tiempo (s): 0.25063014030456543\n",
      "Mejora. Colores usados: 6 // Tiempo (s): 0.30944085121154785\n",
      "Optimo alcanzado!\n"
     ]
    }
   ],
   "source": [
    "sol, t_gen = genetico.main(g['myciel5'], max_time=1200, optimo=6)"
   ]
  },
  {
   "cell_type": "code",
   "execution_count": 4,
   "metadata": {},
   "outputs": [
    {
     "name": "stdout",
     "output_type": "stream",
     "text": [
      "Colores usados por población generada: 24\n",
      "Mejora. Colores usados: 14 // Tiempo (s): 0.0970311164855957\n",
      "Mejora. Colores usados: 12 // Tiempo (s): 0.41071248054504395\n",
      "Mejora. Colores usados: 11 // Tiempo (s): 0.5232317447662354\n",
      "Mejora. Colores usados: 9 // Tiempo (s): 0.6995556354522705\n",
      "Mejora. Colores usados: 8 // Tiempo (s): 0.7931599617004395\n",
      "Mejora. Colores usados: 7 // Tiempo (s): 0.9144420623779297\n",
      "Mejora. Colores usados: 6 // Tiempo (s): 1.1142992973327637\n",
      "Óptimo alcanzado\n"
     ]
    }
   ],
   "source": [
    "sol, t_enf = enfriamiento.main(g['myciel5'], max_time=1200, optimo=6)"
   ]
  },
  {
   "cell_type": "code",
   "execution_count": 5,
   "metadata": {},
   "outputs": [
    {
     "name": "stdout",
     "output_type": "stream",
     "text": [
      "Colores usados por población generada: 24\n",
      "Mejora. Colores usados: 17 // Tiempo (s): 0.04991459846496582\n",
      "Mejora. Colores usados: 14 // Tiempo (s): 0.12565398216247559\n",
      "Mejora. Colores usados: 11 // Tiempo (s): 0.19645285606384277\n",
      "Mejora. Colores usados: 10 // Tiempo (s): 0.29735517501831055\n",
      "Mejora. Colores usados: 9 // Tiempo (s): 0.41530323028564453\n",
      "Mejora. Colores usados: 8 // Tiempo (s): 0.6179263591766357\n",
      "Mejora. Colores usados: 7 // Tiempo (s): 0.7367470264434814\n",
      "Mejora. Colores usados: 6 // Tiempo (s): 0.9892208576202393\n",
      "Óptimo alcanzado\n"
     ]
    }
   ],
   "source": [
    "sol, t_emu = enfriamiento_mut.main(g['myciel5'], max_time=1200, optimo=6)"
   ]
  },
  {
   "cell_type": "code",
   "execution_count": 6,
   "metadata": {
    "collapsed": true
   },
   "outputs": [],
   "source": [
    "%matplotlib inline\n",
    "import matplotlib.pyplot as plt"
   ]
  },
  {
   "cell_type": "code",
   "execution_count": 17,
   "metadata": {
    "collapsed": true
   },
   "outputs": [],
   "source": [
    "col_gen = [24] + [x[0] for x in t_gen]\n",
    "col_enf = [24] + [x[0] for x in t_enf]\n",
    "col_emu = [24] + [x[0] for x in t_emu]\n",
    "tm_gen = [0] + [x[1] for x in t_gen]\n",
    "tm_enf = [0] + [x[1] for x in t_enf]\n",
    "tm_emu = [0] +[x[1] for x in t_emu]"
   ]
  },
  {
   "cell_type": "code",
   "execution_count": 18,
   "metadata": {},
   "outputs": [
    {
     "data": {
      "text/plain": [
       "<matplotlib.text.Text at 0x7f4d0a5010f0>"
      ]
     },
     "execution_count": 18,
     "metadata": {},
     "output_type": "execute_result"
    },
    {
     "data": {
      "image/png": "[encoded data removed]",
      "text/plain": [
       "<matplotlib.figure.Figure at 0x7f4d0a8cd438>"
      ]
     },
     "metadata": {},
     "output_type": "display_data"
    }
   ],
   "source": [
    "plt.plot(tm_gen, col_gen, 'r-o', label='AG')\n",
    "plt.plot(tm_enf, col_enf, 'b-o', label='ES')\n",
    "plt.plot(tm_emu, col_emu, 'g-o', label='ES-M')\n",
    "plt.legend()\n",
    "plt.xlabel('Tiempo(s)')\n",
    "plt.ylabel('Colores')"
   ]
  }
 ],
 "metadata": {
  "kernelspec": {
   "display_name": "Python 3",
   "language": "python",
   "name": "python3"
  },
  "language_info": {
   "codemirror_mode": {
    "name": "ipython",
    "version": 3
   },
   "file_extension": ".py",
   "mimetype": "text/x-python",
   "name": "python",
   "nbconvert_exporter": "python",
   "pygments_lexer": "ipython3",
   "version": "3.6.1"
  }
 },
 "nbformat": 4,
 "nbformat_minor": 2
}
