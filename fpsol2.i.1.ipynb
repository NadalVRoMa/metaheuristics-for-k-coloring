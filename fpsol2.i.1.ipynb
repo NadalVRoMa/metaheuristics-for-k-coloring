{
 "cells": [
  {
   "cell_type": "markdown",
   "metadata": {},
   "source": [
    "# Grafo fpsol2.i.1\n",
    "## Óptimo: 65 Colores"
   ]
  },
  {
   "cell_type": "code",
   "execution_count": 1,
   "metadata": {
    "collapsed": true
   },
   "outputs": [],
   "source": [
    "import genetico, enfriamiento, enfriamiento_mut, shelve"
   ]
  },
  {
   "cell_type": "code",
   "execution_count": 2,
   "metadata": {
    "collapsed": true
   },
   "outputs": [],
   "source": [
    "g = shelve.open('grafos')"
   ]
  },
  {
   "cell_type": "code",
   "execution_count": 3,
   "metadata": {},
   "outputs": [
    {
     "name": "stdout",
     "output_type": "stream",
     "text": [
      "Colores usados por población generada: 253\n",
      "Mejora. Colores usados: 218 // Tiempo (s): 2.122494697570801\n",
      "Mejora. Colores usados: 192 // Tiempo (s): 4.438983201980591\n",
      "Mejora. Colores usados: 178 // Tiempo (s): 6.700586795806885\n",
      "Mejora. Colores usados: 171 // Tiempo (s): 9.288238286972046\n",
      "Mejora. Colores usados: 163 // Tiempo (s): 11.483914136886597\n",
      "Mejora. Colores usados: 154 // Tiempo (s): 13.569071054458618\n",
      "Mejora. Colores usados: 145 // Tiempo (s): 15.691285848617554\n",
      "Mejora. Colores usados: 142 // Tiempo (s): 17.81790566444397\n",
      "Mejora. Colores usados: 136 // Tiempo (s): 19.94548201560974\n",
      "Mejora. Colores usados: 130 // Tiempo (s): 22.45114278793335\n",
      "Mejora. Colores usados: 127 // Tiempo (s): 30.16268014907837\n",
      "Mejora. Colores usados: 125 // Tiempo (s): 42.989826679229736\n",
      "Mejora. Colores usados: 122 // Tiempo (s): 49.54436898231506\n",
      "Mejora. Colores usados: 118 // Tiempo (s): 64.30249500274658\n",
      "Mejora. Colores usados: 114 // Tiempo (s): 85.39902877807617\n",
      "Mejora. Colores usados: 111 // Tiempo (s): 102.77242374420166\n",
      "Mejora. Colores usados: 108 // Tiempo (s): 105.04277849197388\n",
      "Mejora. Colores usados: 106 // Tiempo (s): 109.70196390151978\n",
      "Mejora. Colores usados: 105 // Tiempo (s): 113.75767159461975\n",
      "Mejora. Colores usados: 104 // Tiempo (s): 120.23008608818054\n",
      "Mejora. Colores usados: 103 // Tiempo (s): 146.24487829208374\n",
      "Mejora. Colores usados: 101 // Tiempo (s): 165.81382298469543\n",
      "Mejora. Colores usados: 100 // Tiempo (s): 175.37657284736633\n",
      "Mejora. Colores usados: 98 // Tiempo (s): 205.73883771896362\n",
      "Mejora. Colores usados: 96 // Tiempo (s): 234.48876643180847\n",
      "Mejora. Colores usados: 94 // Tiempo (s): 293.1688106060028\n",
      "Mejora. Colores usados: 93 // Tiempo (s): 341.54865288734436\n",
      "Mejora. Colores usados: 91 // Tiempo (s): 371.077734708786\n",
      "Mejora. Colores usados: 90 // Tiempo (s): 387.6618254184723\n",
      "Mejora. Colores usados: 89 // Tiempo (s): 618.9740927219391\n",
      "Mejora. Colores usados: 88 // Tiempo (s): 671.640997171402\n",
      "Mejora. Colores usados: 87 // Tiempo (s): 743.4461245536804\n",
      "Mejora. Colores usados: 86 // Tiempo (s): 867.8003091812134\n",
      "Mejora. Colores usados: 85 // Tiempo (s): 926.6322124004364\n",
      "Mejora. Colores usados: 84 // Tiempo (s): 1024.2620811462402\n",
      "Mejora. Colores usados: 83 // Tiempo (s): 1240.2403473854065\n"
     ]
    }
   ],
   "source": [
    "sol, t_gen = genetico.main(g['fpsol2.i.1'], max_time=1200, optimo=65)"
   ]
  },
  {
   "cell_type": "code",
   "execution_count": 4,
   "metadata": {},
   "outputs": [
    {
     "name": "stdout",
     "output_type": "stream",
     "text": [
      "Colores usados por población generada: 253\n",
      "Mejora. Colores usados: 148 // Tiempo (s): 352.8229751586914\n",
      "Mejora. Colores usados: 119 // Tiempo (s): 1041.7123210430145\n"
     ]
    }
   ],
   "source": [
    "sol, t_enf = enfriamiento.main(g['fpsol2.i.1'], max_time=1200, optimo=65)"
   ]
  },
  {
   "cell_type": "code",
   "execution_count": 5,
   "metadata": {},
   "outputs": [
    {
     "name": "stdout",
     "output_type": "stream",
     "text": [
      "Colores usados por población generada: 253\n",
      "Mejora. Colores usados: 176 // Tiempo (s): 30.616439819335938\n",
      "Mejora. Colores usados: 150 // Tiempo (s): 60.753623485565186\n",
      "Mejora. Colores usados: 133 // Tiempo (s): 91.32012677192688\n",
      "Mejora. Colores usados: 119 // Tiempo (s): 763.9832355976105\n"
     ]
    }
   ],
   "source": [
    "sol, t_emu = enfriamiento_mut.main(g['fpsol2.i.1'], max_time=1200, optimo=65)"
   ]
  },
  {
   "cell_type": "code",
   "execution_count": 6,
   "metadata": {},
   "outputs": [
    {
     "data": {
      "text/plain": [
       "<matplotlib.text.Text at 0x7fad069284a8>"
      ]
     },
     "execution_count": 6,
     "metadata": {},
     "output_type": "execute_result"
    },
    {
     "data": {
      "image/png": "[encoded data removed]",
      "text/plain": [
       "<matplotlib.figure.Figure at 0x7fad09f1d6a0>"
      ]
     },
     "metadata": {},
     "output_type": "display_data"
    }
   ],
   "source": [
    "%matplotlib inline\n",
    "import matplotlib.pyplot as plt\n",
    "\n",
    "col_gen = [253] + [x[0] for x in t_gen]\n",
    "col_enf = [253] + [x[0] for x in t_enf]\n",
    "col_emu = [253] + [x[0] for x in t_emu]\n",
    "tm_gen = [0] + [x[1] for x in t_gen]\n",
    "tm_enf = [0] + [x[1] for x in t_enf]\n",
    "tm_emu = [0] +[x[1] for x in t_emu]\n",
    "\n",
    "plt.plot(tm_gen, col_gen, 'r-o', label='AG')\n",
    "plt.plot(tm_enf, col_enf, 'b-o', label='ES')\n",
    "plt.plot(tm_emu, col_emu, 'g-o', label='ES-M')\n",
    "plt.legend()\n",
    "plt.xlabel('Tiempo(s)')\n",
    "plt.ylabel('Colores')"
   ]
  }
 ],
 "metadata": {
  "kernelspec": {
   "display_name": "Python 3",
   "language": "python",
   "name": "python3"
  },
  "language_info": {
   "codemirror_mode": {
    "name": "ipython",
    "version": 3
   },
   "file_extension": ".py",
   "mimetype": "text/x-python",
   "name": "python",
   "nbconvert_exporter": "python",
   "pygments_lexer": "ipython3",
   "version": "3.6.1"
  }
 },
 "nbformat": 4,
 "nbformat_minor": 2
}
