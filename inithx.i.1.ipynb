{
 "cells": [
  {
   "cell_type": "markdown",
   "metadata": {},
   "source": [
    "# Grafo inithx.i.1\n",
    "## Óptimo: 54 Colores"
   ]
  },
  {
   "cell_type": "code",
   "execution_count": 1,
   "metadata": {
    "collapsed": true
   },
   "outputs": [],
   "source": [
    "import genetico, enfriamiento, enfriamiento_mut, shelve"
   ]
  },
  {
   "cell_type": "code",
   "execution_count": 2,
   "metadata": {
    "collapsed": true
   },
   "outputs": [],
   "source": [
    "g = shelve.open('grafos')"
   ]
  },
  {
   "cell_type": "code",
   "execution_count": 3,
   "metadata": {},
   "outputs": [
    {
     "name": "stdout",
     "output_type": "stream",
     "text": [
      "Colores usados por población generada: 503\n",
      "Mejora. Colores usados: 417 // Tiempo (s): 6.043797492980957\n",
      "Mejora. Colores usados: 369 // Tiempo (s): 11.960909843444824\n",
      "Mejora. Colores usados: 336 // Tiempo (s): 18.1312472820282\n",
      "Mejora. Colores usados: 310 // Tiempo (s): 24.52622699737549\n",
      "Mejora. Colores usados: 293 // Tiempo (s): 31.29464626312256\n",
      "Mejora. Colores usados: 278 // Tiempo (s): 37.94569778442383\n",
      "Mejora. Colores usados: 263 // Tiempo (s): 44.764031410217285\n",
      "Mejora. Colores usados: 252 // Tiempo (s): 51.332855224609375\n",
      "Mejora. Colores usados: 248 // Tiempo (s): 57.905041456222534\n",
      "Mejora. Colores usados: 236 // Tiempo (s): 64.91670751571655\n",
      "Mejora. Colores usados: 230 // Tiempo (s): 71.65846276283264\n",
      "Mejora. Colores usados: 226 // Tiempo (s): 78.3115804195404\n",
      "Mejora. Colores usados: 220 // Tiempo (s): 84.72323179244995\n",
      "Mejora. Colores usados: 215 // Tiempo (s): 91.4354887008667\n",
      "Mejora. Colores usados: 212 // Tiempo (s): 98.05472469329834\n",
      "Mejora. Colores usados: 206 // Tiempo (s): 104.90047931671143\n",
      "Mejora. Colores usados: 204 // Tiempo (s): 111.69358944892883\n",
      "Mejora. Colores usados: 200 // Tiempo (s): 118.36929368972778\n",
      "Mejora. Colores usados: 198 // Tiempo (s): 124.9639081954956\n",
      "Mejora. Colores usados: 194 // Tiempo (s): 131.720374584198\n",
      "Mejora. Colores usados: 191 // Tiempo (s): 138.38809466362\n",
      "Mejora. Colores usados: 189 // Tiempo (s): 144.92319560050964\n",
      "Mejora. Colores usados: 183 // Tiempo (s): 151.60307621955872\n",
      "Mejora. Colores usados: 182 // Tiempo (s): 158.1597638130188\n",
      "Mejora. Colores usados: 180 // Tiempo (s): 164.81046319007874\n",
      "Mejora. Colores usados: 177 // Tiempo (s): 171.2987744808197\n",
      "Mejora. Colores usados: 176 // Tiempo (s): 177.8721489906311\n",
      "Mejora. Colores usados: 175 // Tiempo (s): 184.54347896575928\n",
      "Mejora. Colores usados: 174 // Tiempo (s): 191.3565182685852\n",
      "Mejora. Colores usados: 170 // Tiempo (s): 198.00660395622253\n",
      "Mejora. Colores usados: 166 // Tiempo (s): 204.50707364082336\n",
      "Mejora. Colores usados: 165 // Tiempo (s): 211.16254663467407\n",
      "Mejora. Colores usados: 164 // Tiempo (s): 217.7607719898224\n",
      "Mejora. Colores usados: 163 // Tiempo (s): 224.2671172618866\n",
      "Mejora. Colores usados: 162 // Tiempo (s): 230.77166223526\n",
      "Mejora. Colores usados: 160 // Tiempo (s): 237.40521335601807\n",
      "Mejora. Colores usados: 159 // Tiempo (s): 243.94283723831177\n",
      "Mejora. Colores usados: 157 // Tiempo (s): 250.48962092399597\n",
      "Mejora. Colores usados: 155 // Tiempo (s): 257.15539717674255\n",
      "Mejora. Colores usados: 154 // Tiempo (s): 263.7480278015137\n",
      "Mejora. Colores usados: 153 // Tiempo (s): 270.34428668022156\n",
      "Mejora. Colores usados: 152 // Tiempo (s): 276.85517287254333\n",
      "Mejora. Colores usados: 151 // Tiempo (s): 283.3130576610565\n",
      "Mejora. Colores usados: 150 // Tiempo (s): 289.8263669013977\n",
      "Mejora. Colores usados: 149 // Tiempo (s): 296.42155480384827\n",
      "Mejora. Colores usados: 148 // Tiempo (s): 303.00163745880127\n",
      "Mejora. Colores usados: 147 // Tiempo (s): 309.6961839199066\n",
      "Mejora. Colores usados: 146 // Tiempo (s): 316.47403287887573\n",
      "Mejora. Colores usados: 145 // Tiempo (s): 323.0014183521271\n",
      "Mejora. Colores usados: 143 // Tiempo (s): 329.60282254219055\n",
      "Mejora. Colores usados: 142 // Tiempo (s): 336.0863654613495\n",
      "Mejora. Colores usados: 141 // Tiempo (s): 342.84482288360596\n",
      "Mejora. Colores usados: 139 // Tiempo (s): 349.3712911605835\n",
      "Mejora. Colores usados: 138 // Tiempo (s): 355.90580773353577\n",
      "Mejora. Colores usados: 137 // Tiempo (s): 362.43857502937317\n",
      "Mejora. Colores usados: 135 // Tiempo (s): 369.1665241718292\n",
      "Mejora. Colores usados: 134 // Tiempo (s): 375.82852244377136\n",
      "Mejora. Colores usados: 133 // Tiempo (s): 382.7217149734497\n",
      "Mejora. Colores usados: 132 // Tiempo (s): 397.86629247665405\n",
      "Mejora. Colores usados: 131 // Tiempo (s): 414.6163685321808\n",
      "Mejora. Colores usados: 130 // Tiempo (s): 458.8273561000824\n",
      "Mejora. Colores usados: 129 // Tiempo (s): 509.0710642337799\n",
      "Mejora. Colores usados: 128 // Tiempo (s): 515.9582524299622\n",
      "Mejora. Colores usados: 127 // Tiempo (s): 522.4404509067535\n",
      "Mejora. Colores usados: 126 // Tiempo (s): 528.9842472076416\n",
      "Mejora. Colores usados: 125 // Tiempo (s): 539.5077588558197\n",
      "Mejora. Colores usados: 124 // Tiempo (s): 546.0051310062408\n",
      "Mejora. Colores usados: 123 // Tiempo (s): 569.213160276413\n",
      "Mejora. Colores usados: 122 // Tiempo (s): 583.5500802993774\n",
      "Mejora. Colores usados: 121 // Tiempo (s): 603.8821640014648\n",
      "Mejora. Colores usados: 120 // Tiempo (s): 612.7726724147797\n",
      "Mejora. Colores usados: 119 // Tiempo (s): 656.598628282547\n",
      "Mejora. Colores usados: 118 // Tiempo (s): 730.1774938106537\n",
      "Mejora. Colores usados: 117 // Tiempo (s): 767.3698585033417\n",
      "Mejora. Colores usados: 116 // Tiempo (s): 793.7667565345764\n",
      "Mejora. Colores usados: 115 // Tiempo (s): 800.4493353366852\n",
      "Mejora. Colores usados: 114 // Tiempo (s): 809.7079436779022\n",
      "Mejora. Colores usados: 113 // Tiempo (s): 850.4032905101776\n",
      "Mejora. Colores usados: 112 // Tiempo (s): 940.5599601268768\n",
      "Mejora. Colores usados: 111 // Tiempo (s): 962.053915977478\n",
      "Mejora. Colores usados: 110 // Tiempo (s): 988.4206964969635\n",
      "Mejora. Colores usados: 109 // Tiempo (s): 1009.5707879066467\n",
      "Mejora. Colores usados: 108 // Tiempo (s): 1047.3386130332947\n",
      "Mejora. Colores usados: 107 // Tiempo (s): 1078.1984286308289\n",
      "Mejora. Colores usados: 106 // Tiempo (s): 1350.5580592155457\n"
     ]
    }
   ],
   "source": [
    "sol, t_gen = genetico.main(g['inithx.i.1'], max_time=1200, optimo=54)"
   ]
  },
  {
   "cell_type": "code",
   "execution_count": 4,
   "metadata": {},
   "outputs": [
    {
     "name": "stdout",
     "output_type": "stream",
     "text": [
      "Colores usados por población generada: 503\n",
      "Mejora. Colores usados: 257 // Tiempo (s): 500.09856939315796\n"
     ]
    }
   ],
   "source": [
    "sol, t_enf = enfriamiento.main(g['inithx.i.1'], max_time=1200, optimo=54)"
   ]
  },
  {
   "cell_type": "code",
   "execution_count": 5,
   "metadata": {},
   "outputs": [
    {
     "name": "stdout",
     "output_type": "stream",
     "text": [
      "Colores usados por población generada: 503\n",
      "Mejora. Colores usados: 347 // Tiempo (s): 84.5269501209259\n",
      "Mejora. Colores usados: 278 // Tiempo (s): 169.3958661556244\n",
      "Mejora. Colores usados: 248 // Tiempo (s): 254.66647100448608\n",
      "Mejora. Colores usados: 230 // Tiempo (s): 341.5104353427887\n",
      "Mejora. Colores usados: 214 // Tiempo (s): 426.84704875946045\n",
      "Mejora. Colores usados: 198 // Tiempo (s): 512.4128806591034\n",
      "Mejora. Colores usados: 192 // Tiempo (s): 598.3414855003357\n",
      "Mejora. Colores usados: 186 // Tiempo (s): 685.8582878112793\n",
      "Mejora. Colores usados: 177 // Tiempo (s): 770.9016318321228\n",
      "Mejora. Colores usados: 169 // Tiempo (s): 858.0288395881653\n",
      "Mejora. Colores usados: 164 // Tiempo (s): 942.588714838028\n",
      "Mejora. Colores usados: 163 // Tiempo (s): 1029.7478380203247\n",
      "Mejora. Colores usados: 159 // Tiempo (s): 1106.1606087684631\n"
     ]
    }
   ],
   "source": [
    "sol, t_emu = enfriamiento_mut.main(g['inithx.i.1'], max_time=1200, optimo=54)"
   ]
  },
  {
   "cell_type": "code",
   "execution_count": 6,
   "metadata": {},
   "outputs": [
    {
     "data": {
      "text/plain": [
       "<matplotlib.text.Text at 0x7f7f74350470>"
      ]
     },
     "execution_count": 6,
     "metadata": {},
     "output_type": "execute_result"
    },
    {
     "data": {
      "image/png": "[encoded data removed]",
      "text/plain": [
       "<matplotlib.figure.Figure at 0x7f7f77943320>"
      ]
     },
     "metadata": {},
     "output_type": "display_data"
    }
   ],
   "source": [
    "%matplotlib inline\n",
    "import matplotlib.pyplot as plt\n",
    "\n",
    "col_gen = [503] + [x[0] for x in t_gen]\n",
    "col_enf = [503] + [x[0] for x in t_enf]\n",
    "col_emu = [503] + [x[0] for x in t_emu]\n",
    "tm_gen = [0] + [x[1] for x in t_gen]\n",
    "tm_enf = [0] + [x[1] for x in t_enf]\n",
    "tm_emu = [0] +[x[1] for x in t_emu]\n",
    "\n",
    "plt.plot(tm_gen, col_gen, 'r-o', label='AG')\n",
    "plt.plot(tm_enf, col_enf, 'b-o', label='ES')\n",
    "plt.plot(tm_emu, col_emu, 'g-o', label='ES-M')\n",
    "plt.legend()\n",
    "plt.xlabel('Tiempo(s)')\n",
    "plt.ylabel('Colores')"
   ]
  }
 ],
 "metadata": {
  "kernelspec": {
   "display_name": "Python 3",
   "language": "python",
   "name": "python3"
  },
  "language_info": {
   "codemirror_mode": {
    "name": "ipython",
    "version": 3
   },
   "file_extension": ".py",
   "mimetype": "text/x-python",
   "name": "python",
   "nbconvert_exporter": "python",
   "pygments_lexer": "ipython3",
   "version": "3.6.1"
  }
 },
 "nbformat": 4,
 "nbformat_minor": 2
}
