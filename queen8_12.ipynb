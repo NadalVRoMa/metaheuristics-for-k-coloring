{
 "cells": [
  {
   "cell_type": "markdown",
   "metadata": {},
   "source": [
    "# Grafo queen8_12\n",
    "## Óptimo: 12 Colores"
   ]
  },
  {
   "cell_type": "code",
   "execution_count": 1,
   "metadata": {
    "collapsed": true
   },
   "outputs": [],
   "source": [
    "import genetico, enfriamiento, enfriamiento_mut, shelve"
   ]
  },
  {
   "cell_type": "code",
   "execution_count": 2,
   "metadata": {
    "collapsed": true
   },
   "outputs": [],
   "source": [
    "g = shelve.open('grafos')"
   ]
  },
  {
   "cell_type": "code",
   "execution_count": 3,
   "metadata": {},
   "outputs": [
    {
     "name": "stdout",
     "output_type": "stream",
     "text": [
      "Colores usados por población generada: 33\n",
      "Mejora. Colores usados: 30 // Tiempo (s): 0.10077261924743652\n",
      "Mejora. Colores usados: 29 // Tiempo (s): 0.21052765846252441\n",
      "Mejora. Colores usados: 27 // Tiempo (s): 0.3384976387023926\n",
      "Mejora. Colores usados: 25 // Tiempo (s): 0.44757676124572754\n",
      "Mejora. Colores usados: 24 // Tiempo (s): 0.547393798828125\n",
      "Mejora. Colores usados: 23 // Tiempo (s): 0.661029577255249\n",
      "Mejora. Colores usados: 22 // Tiempo (s): 0.7733416557312012\n",
      "Mejora. Colores usados: 21 // Tiempo (s): 0.8479771614074707\n",
      "Mejora. Colores usados: 19 // Tiempo (s): 0.926128625869751\n",
      "Mejora. Colores usados: 18 // Tiempo (s): 1.0018012523651123\n",
      "Mejora. Colores usados: 17 // Tiempo (s): 1.0787155628204346\n",
      "Mejora. Colores usados: 16 // Tiempo (s): 1.3378827571868896\n",
      "Mejora. Colores usados: 15 // Tiempo (s): 3.503736972808838\n",
      "Mejora. Colores usados: 14 // Tiempo (s): 7.958421468734741\n",
      "Mejora. Colores usados: 13 // Tiempo (s): 12.627601385116577\n"
     ]
    }
   ],
   "source": [
    "sol, t_gen = genetico.main(g['queen8_12'], max_time=1200, optimo=12)"
   ]
  },
  {
   "cell_type": "code",
   "execution_count": 4,
   "metadata": {},
   "outputs": [
    {
     "name": "stdout",
     "output_type": "stream",
     "text": [
      "Colores usados por población generada: 33\n",
      "Mejora. Colores usados: 27 // Tiempo (s): 0.9684827327728271\n",
      "Mejora. Colores usados: 25 // Tiempo (s): 2.2070412635803223\n",
      "Mejora. Colores usados: 23 // Tiempo (s): 4.0625998973846436\n",
      "Mejora. Colores usados: 22 // Tiempo (s): 14.693178176879883\n",
      "Mejora. Colores usados: 20 // Tiempo (s): 21.661555528640747\n",
      "Mejora. Colores usados: 19 // Tiempo (s): 38.87034463882446\n",
      "Mejora. Colores usados: 18 // Tiempo (s): 79.23337769508362\n",
      "Mejora. Colores usados: 16 // Tiempo (s): 113.96215176582336\n",
      "Mejora. Colores usados: 15 // Tiempo (s): 308.4878418445587\n",
      "Mejora. Colores usados: 14 // Tiempo (s): 490.88604617118835\n"
     ]
    }
   ],
   "source": [
    "sol, t_enf = enfriamiento.main(g['queen8_12'], max_time=1200, optimo=12)"
   ]
  },
  {
   "cell_type": "code",
   "execution_count": 5,
   "metadata": {},
   "outputs": [
    {
     "name": "stdout",
     "output_type": "stream",
     "text": [
      "Colores usados por población generada: 33\n",
      "Mejora. Colores usados: 29 // Tiempo (s): 0.8600153923034668\n",
      "Mejora. Colores usados: 26 // Tiempo (s): 2.2586510181427\n",
      "Mejora. Colores usados: 23 // Tiempo (s): 2.884826421737671\n",
      "Mejora. Colores usados: 21 // Tiempo (s): 7.34068489074707\n",
      "Mejora. Colores usados: 20 // Tiempo (s): 12.395788431167603\n",
      "Mejora. Colores usados: 18 // Tiempo (s): 15.961172819137573\n",
      "Mejora. Colores usados: 17 // Tiempo (s): 17.11868977546692\n",
      "Mejora. Colores usados: 16 // Tiempo (s): 25.727625131607056\n",
      "Mejora. Colores usados: 15 // Tiempo (s): 96.13119554519653\n",
      "Mejora. Colores usados: 14 // Tiempo (s): 765.8357744216919\n",
      "Mejora. Colores usados: 13 // Tiempo (s): 1002.2461369037628\n"
     ]
    }
   ],
   "source": [
    "sol, t_emu = enfriamiento_mut.main(g['queen8_12'], max_time=1200, optimo=12)"
   ]
  },
  {
   "cell_type": "code",
   "execution_count": 6,
   "metadata": {},
   "outputs": [
    {
     "data": {
      "text/plain": [
       "<matplotlib.text.Text at 0x7f401b62f3c8>"
      ]
     },
     "execution_count": 6,
     "metadata": {},
     "output_type": "execute_result"
    },
    {
     "data": {
      "image/png": "[encoded data removed]",
      "text/plain": [
       "<matplotlib.figure.Figure at 0x7f401ebefcc0>"
      ]
     },
     "metadata": {},
     "output_type": "display_data"
    }
   ],
   "source": [
    "%matplotlib inline\n",
    "import matplotlib.pyplot as plt\n",
    "\n",
    "col_gen = [33] + [x[0] for x in t_gen]\n",
    "col_enf = [33] + [x[0] for x in t_enf]\n",
    "col_emu = [33] + [x[0] for x in t_emu]\n",
    "tm_gen = [0] + [x[1] for x in t_gen]\n",
    "tm_enf = [0] + [x[1] for x in t_enf]\n",
    "tm_emu = [0] +[x[1] for x in t_emu]\n",
    "\n",
    "plt.plot(tm_gen, col_gen, 'r-o', label='AG')\n",
    "plt.plot(tm_enf, col_enf, 'b-o', label='ES')\n",
    "plt.plot(tm_emu, col_emu, 'g-o', label='ES-M')\n",
    "plt.legend()\n",
    "plt.xlabel('Tiempo(s)')\n",
    "plt.ylabel('Colores')"
   ]
  }
 ],
 "metadata": {
  "kernelspec": {
   "display_name": "Python 3",
   "language": "python",
   "name": "python3"
  },
  "language_info": {
   "codemirror_mode": {
    "name": "ipython",
    "version": 3
   },
   "file_extension": ".py",
   "mimetype": "text/x-python",
   "name": "python",
   "nbconvert_exporter": "python",
   "pygments_lexer": "ipython3",
   "version": "3.6.1"
  }
 },
 "nbformat": 4,
 "nbformat_minor": 2
}
